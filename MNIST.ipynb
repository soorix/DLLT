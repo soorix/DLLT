{
 "cells": [
  {
   "cell_type": "markdown",
   "metadata": {},
   "source": [
    "https://excelsior-cjh.tistory.com/149\n",
    "\n",
    "소프트맥스 회귀 - Softmax Regression"
   ]
  },
  {
   "cell_type": "code",
   "execution_count": 4,
   "metadata": {},
   "outputs": [
    {
     "name": "stdout",
     "output_type": "stream",
     "text": [
      "Extracting ../data\\train-images-idx3-ubyte.gz\n",
      "Extracting ../data\\train-labels-idx1-ubyte.gz\n",
      "Extracting ../data\\t10k-images-idx3-ubyte.gz\n",
      "Extracting ../data\\t10k-labels-idx1-ubyte.gz\n"
     ]
    }
   ],
   "source": [
    "# softmax.py\n",
    "import tensorflow as tf\n",
    "from tensorflow.examples.tutorials.mnist import input_data\n",
    "\n",
    "# 상수 설정\n",
    "DATA_DIR = '../data'\n",
    "NUM_STEPS = 1000\n",
    "MINIBATCH_SIZE = 200\n",
    "\n",
    "# MNIST 데이터 불러오기\n",
    "data = input_data.read_data_sets(DATA_DIR, one_hot=True)\n",
    "\n",
    "\n"
   ]
  },
  {
   "cell_type": "code",
   "execution_count": 6,
   "metadata": {},
   "outputs": [],
   "source": [
    "#########\n",
    "# 모델링 \n",
    "#########\n",
    "x = tf.placeholder(tf.float32, [None, 784])\n",
    "W = tf.Variable(tf.zeros([784, 10]))\n",
    "# b = tf.Variable(tf.random_uniform([10], -1., 1.))\n",
    "\n",
    "# y_pred = tf.add(tf.matmul(x ,W), b)\n",
    "y_pred = tf.matmul(x, W)\n",
    "y_true = tf.placeholder(tf.float32, [None, 10])\n",
    "\n",
    "# Cost(Loss) Function\n",
    "cross_entropy = tf.reduce_mean(\n",
    "                  tf.nn.softmax_cross_entropy_with_logits_v2(logits=y_pred, labels=y_true))\n",
    "\n",
    "# Gradient Step(Optimze)\n",
    "gd_step = tf.train.GradientDescentOptimizer(learning_rate=0.5).minimize(cross_entropy)\n",
    "\n",
    "correct_mask = tf.equal(tf.argmax(y_pred, 1), tf.argmax(y_true, 1))\n",
    "accuracy = tf.reduce_mean(tf.cast(correct_mask, tf.float32))\n",
    "\n",
    "\n"
   ]
  },
  {
   "cell_type": "markdown",
   "metadata": {},
   "source": [
    "이미지(784 : 28 x 28) -> 숫자(10 : 1)"
   ]
  },
  {
   "cell_type": "code",
   "execution_count": 7,
   "metadata": {},
   "outputs": [
    {
     "name": "stdout",
     "output_type": "stream",
     "text": [
      "100 | 0.424384\n",
      "200 | 0.22105129\n",
      "300 | 0.35314646\n",
      "400 | 0.3058225\n",
      "500 | 0.40995637\n",
      "600 | 0.3065945\n",
      "700 | 0.25124827\n",
      "800 | 0.27310926\n",
      "900 | 0.249807\n",
      "1000 | 0.2217989\n",
      "Accuracy: 92.18%\n"
     ]
    }
   ],
   "source": [
    "with tf.Session() as sess:\n",
    "  # 학습\n",
    "  sess.run(tf.global_variables_initializer())\n",
    "\n",
    "  for step in range(NUM_STEPS):\n",
    "      batch_xs, batch_ys = data.train.next_batch(MINIBATCH_SIZE)\n",
    "      sess.run(gd_step, feed_dict={x: batch_xs, y_true: batch_ys})\n",
    "\n",
    "      if(step + 1) % 100 == 0:\n",
    "          print(step+1, '|', sess.run(cross_entropy, feed_dict={x: batch_xs, y_true: batch_ys}))\n",
    "\n",
    "  # 테스트\n",
    "  ans = sess.run(accuracy, feed_dict={x: data.test.images,\n",
    "                                     y_true: data.test.labels})\n",
    "\n",
    "print(\"Accuracy: {:.2f}%\".format(ans*100))\n",
    "\n"
   ]
  },
  {
   "cell_type": "markdown",
   "metadata": {},
   "source": [
    "kernel restarting..."
   ]
  },
  {
   "cell_type": "code",
   "execution_count": 8,
   "metadata": {},
   "outputs": [
    {
     "name": "stdout",
     "output_type": "stream",
     "text": [
      "Extracting ../data\\train-images-idx3-ubyte.gz\n",
      "Extracting ../data\\train-labels-idx1-ubyte.gz\n",
      "Extracting ../data\\t10k-images-idx3-ubyte.gz\n",
      "Extracting ../data\\t10k-labels-idx1-ubyte.gz\n"
     ]
    },
    {
     "ename": "NameError",
     "evalue": "name 'train_x' is not defined",
     "output_type": "error",
     "traceback": [
      "\u001b[1;31m---------------------------------------------------------------------------\u001b[0m",
      "\u001b[1;31mNameError\u001b[0m                                 Traceback (most recent call last)",
      "\u001b[1;32m<ipython-input-8-01f8c0cd83e6>\u001b[0m in \u001b[0;36m<module>\u001b[1;34m\u001b[0m\n\u001b[0;32m      7\u001b[0m \u001b[1;31m# Train set\u001b[0m\u001b[1;33m\u001b[0m\u001b[1;33m\u001b[0m\u001b[1;33m\u001b[0m\u001b[0m\n\u001b[0;32m      8\u001b[0m \u001b[1;31m# Image\u001b[0m\u001b[1;33m\u001b[0m\u001b[1;33m\u001b[0m\u001b[1;33m\u001b[0m\u001b[0m\n\u001b[1;32m----> 9\u001b[1;33m \u001b[0mtrain_x\u001b[0m \u001b[1;33m=\u001b[0m \u001b[0mtrain_x\u001b[0m\u001b[1;33m.\u001b[0m\u001b[0mreshape\u001b[0m\u001b[1;33m(\u001b[0m\u001b[1;33m[\u001b[0m\u001b[0mtrain_x\u001b[0m\u001b[1;33m.\u001b[0m\u001b[0mshape\u001b[0m\u001b[1;33m[\u001b[0m\u001b[1;36m0\u001b[0m\u001b[1;33m]\u001b[0m\u001b[1;33m,\u001b[0m \u001b[1;33m-\u001b[0m\u001b[1;36m1\u001b[0m\u001b[1;33m]\u001b[0m\u001b[1;33m)\u001b[0m\u001b[1;33m\u001b[0m\u001b[1;33m\u001b[0m\u001b[0m\n\u001b[0m\u001b[0;32m     10\u001b[0m \u001b[0mtrain_x\u001b[0m \u001b[1;33m=\u001b[0m \u001b[0mtrain_x\u001b[0m\u001b[1;33m.\u001b[0m\u001b[0mastype\u001b[0m\u001b[1;33m(\u001b[0m\u001b[1;34m'float32'\u001b[0m\u001b[1;33m)\u001b[0m \u001b[1;33m/\u001b[0m \u001b[1;36m255\u001b[0m\u001b[1;33m\u001b[0m\u001b[1;33m\u001b[0m\u001b[0m\n\u001b[0;32m     11\u001b[0m \u001b[1;31m# Label\u001b[0m\u001b[1;33m\u001b[0m\u001b[1;33m\u001b[0m\u001b[1;33m\u001b[0m\u001b[0m\n",
      "\u001b[1;31mNameError\u001b[0m: name 'train_x' is not defined"
     ]
    }
   ],
   "source": [
    "from tensorflow.examples.tutorials.mnist import input_data\n",
    "data = input_data.read_data_sets(DATA_DIR, one_hot=True)\n",
    "\n",
    "def mnist_load():\n",
    "  (train_x, train_y), (test_x, test_y) = tf.keras.datasets.mnist.load_data()\n",
    "\n",
    "# Train set\n",
    "# Image\n",
    "train_x = train_x.reshape([train_x.shape[0], -1])\n",
    "train_x = train_x.astype('float32') / 255\n",
    "# Label\n",
    "train_y = tf.keras.utils.to_categorical(train_y, num_classes=10)\n",
    "\n",
    "# Test set\n",
    "# Image\n",
    "test_x = test_x.reshape([test_x.shape[0], -1])\n",
    "test_x = test_x.astype('float32') / 255\n",
    "# Label\n",
    "test_y = tf.keras.utils.to_categorical(test_y, num_classes=10)\n",
    "\n",
    "return (train_x, train_y), (test_x, test_y)\n",
    "\n",
    "(train_x, train_y), (test_x, test_y) = mnist_load()\n",
    "\n",
    "buffer_size = train_x.shape[0] + test_x.shape[0]\n",
    "\n",
    "dataset = tf.data.Dataset.from_tensor_slices(({\"image\": train_x}, train_y))\n",
    "dataset = dataset.shuffle(buffer_size).repeat().batch(MINIBATCH_SIZE)\n",
    "iterator = dataset.make_one_shot_iterator()\n",
    "next_batch = iterator.get_next()\n",
    "\n",
    "x = tf.placeholder(tf.float32, [None, 784])\n",
    "W = tf.Variable(tf.zeros([784, 10]))\n",
    "\n",
    "y_pred = tf.matmul(x ,W)\n",
    "y_true = tf.placeholder(tf.float32, [None, 10])\n",
    "\n",
    "# Cost(Loss) Function\n",
    "cross_entropy = tf.reduce_mean(\n",
    "                  tf.nn.softmax_cross_entropy_with_logits_v2(logits=y_pred, labels=y_true))\n",
    "\n",
    "# Gradient Step(Optimze)\n",
    "gd_step = tf.train.GradientDescentOptimizer(learning_rate=0.5).minimize(cross_entropy)\n",
    "\n",
    "correct_mask = tf.equal(tf.argmax(y_pred, 1), tf.argmax(y_true, 1))\n",
    "accuracy = tf.reduce_mean(tf.cast(correct_mask, tf.float32))\n",
    "\n",
    "%%time\n",
    "with tf.Session() as sess:\n",
    "  # 학습\n",
    "  sess.run(tf.global_variables_initializer())\n",
    "\n",
    "  for step in range(NUM_STEPS):\n",
    "      batch_xs, batch_ys = sess.run(next_batch)\n",
    "      sess.run(gd_step, feed_dict={x: batch_xs['image'], y_true: batch_ys})\n",
    "\n",
    "      if(step + 1) % 100 == 0:\n",
    "          print(step+1, '|', sess.run(cross_entropy, feed_dict={x: batch_xs['image'], y_true: batch_ys}))\n",
    "\n",
    "  # 테스트\n",
    "  ans = sess.run(accuracy, feed_dict={x: test_x,\n",
    "                                     y_true: test_y})\n",
    "      \n",
    "print(\"Accuracy: {:.2f}%\".format(ans*100))\n",
    "\n",
    "\n",
    "\n",
    "\n",
    "\n",
    "\n",
    "\n",
    "\n"
   ]
  },
  {
   "cell_type": "code",
   "execution_count": null,
   "metadata": {},
   "outputs": [],
   "source": []
  }
 ],
 "metadata": {
  "kernelspec": {
   "display_name": "Python 3",
   "language": "python",
   "name": "python3"
  },
  "language_info": {
   "codemirror_mode": {
    "name": "ipython",
    "version": 3
   },
   "file_extension": ".py",
   "mimetype": "text/x-python",
   "name": "python",
   "nbconvert_exporter": "python",
   "pygments_lexer": "ipython3",
   "version": "3.7.6"
  }
 },
 "nbformat": 4,
 "nbformat_minor": 2
}
